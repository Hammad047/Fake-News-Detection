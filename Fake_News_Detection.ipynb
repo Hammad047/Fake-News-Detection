{
  "nbformat": 4,
  "nbformat_minor": 0,
  "metadata": {
    "colab": {
      "name": "Fake News Detection.ipynb",
      "provenance": [],
      "collapsed_sections": []
    },
    "kernelspec": {
      "name": "python3",
      "display_name": "Python 3"
    },
    "language_info": {
      "name": "python"
    },
    "gpuClass": "standard"
  },
  "cells": [
    {
      "cell_type": "markdown",
      "source": [
        "# **Fake News Detection**"
      ],
      "metadata": {
        "id": "GkZog722zXFB"
      }
    },
    {
      "cell_type": "code",
      "source": [
        "!wget -nc https://raw.githubusercontent.com/brpy/colab-pdf/master/colab_pdf.py\n",
        "from colab_pdf import colab_pdf\n",
        "colab_pdf('Fake News Detection.ipynb')"
      ],
      "metadata": {
        "colab": {
          "base_uri": "https://localhost:8080/",
          "height": 419
        },
        "id": "XNXfJw2TFecv",
        "outputId": "d766baa7-58eb-4337-ebd7-324ac04af0a7"
      },
      "execution_count": 47,
      "outputs": [
        {
          "output_type": "stream",
          "name": "stdout",
          "text": [
            "File ‘colab_pdf.py’ already there; not retrieving.\n",
            "\n",
            "\n",
            "WARNING: apt does not have a stable CLI interface. Use with caution in scripts.\n",
            "\n",
            "\n",
            "WARNING: apt does not have a stable CLI interface. Use with caution in scripts.\n",
            "\n",
            "Extracting templates from packages: 100%\n",
            "[NbConvertApp] Converting notebook /content/drive/MyDrive/Colab Notebooks/Fake News Detection.ipynb to pdf\n",
            "[NbConvertApp] Support files will be in Fake News Detection_files/\n",
            "[NbConvertApp] Making directory ./Fake News Detection_files\n",
            "[NbConvertApp] Making directory ./Fake News Detection_files\n",
            "[NbConvertApp] Making directory ./Fake News Detection_files\n",
            "[NbConvertApp] Writing 66250 bytes to ./notebook.tex\n",
            "[NbConvertApp] Building PDF\n",
            "[NbConvertApp] Running xelatex 3 times: ['xelatex', './notebook.tex', '-quiet']\n",
            "[NbConvertApp] Running bibtex 1 time: ['bibtex', './notebook']\n",
            "[NbConvertApp] WARNING | bibtex had problems, most likely because there were no citations\n",
            "[NbConvertApp] PDF successfully created\n",
            "[NbConvertApp] Writing 139852 bytes to /content/drive/My Drive/Fake News Detection.pdf\n"
          ]
        },
        {
          "output_type": "display_data",
          "data": {
            "text/plain": [
              "<IPython.core.display.Javascript object>"
            ],
            "application/javascript": [
              "\n",
              "    async function download(id, filename, size) {\n",
              "      if (!google.colab.kernel.accessAllowed) {\n",
              "        return;\n",
              "      }\n",
              "      const div = document.createElement('div');\n",
              "      const label = document.createElement('label');\n",
              "      label.textContent = `Downloading \"${filename}\": `;\n",
              "      div.appendChild(label);\n",
              "      const progress = document.createElement('progress');\n",
              "      progress.max = size;\n",
              "      div.appendChild(progress);\n",
              "      document.body.appendChild(div);\n",
              "\n",
              "      const buffers = [];\n",
              "      let downloaded = 0;\n",
              "\n",
              "      const channel = await google.colab.kernel.comms.open(id);\n",
              "      // Send a message to notify the kernel that we're ready.\n",
              "      channel.send({})\n",
              "\n",
              "      for await (const message of channel.messages) {\n",
              "        // Send a message to notify the kernel that we're ready.\n",
              "        channel.send({})\n",
              "        if (message.buffers) {\n",
              "          for (const buffer of message.buffers) {\n",
              "            buffers.push(buffer);\n",
              "            downloaded += buffer.byteLength;\n",
              "            progress.value = downloaded;\n",
              "          }\n",
              "        }\n",
              "      }\n",
              "      const blob = new Blob(buffers, {type: 'application/binary'});\n",
              "      const a = document.createElement('a');\n",
              "      a.href = window.URL.createObjectURL(blob);\n",
              "      a.download = filename;\n",
              "      div.appendChild(a);\n",
              "      a.click();\n",
              "      div.remove();\n",
              "    }\n",
              "  "
            ]
          },
          "metadata": {}
        },
        {
          "output_type": "display_data",
          "data": {
            "text/plain": [
              "<IPython.core.display.Javascript object>"
            ],
            "application/javascript": [
              "download(\"download_4df5c7d9-c6a2-44af-9017-6cd631801428\", \"Fake News Detection.pdf\", 139852)"
            ]
          },
          "metadata": {}
        },
        {
          "output_type": "execute_result",
          "data": {
            "text/plain": [
              "'File ready to be Downloaded and Saved to Drive'"
            ],
            "application/vnd.google.colaboratory.intrinsic+json": {
              "type": "string"
            }
          },
          "metadata": {},
          "execution_count": 47
        }
      ]
    },
    {
      "cell_type": "code",
      "execution_count": 8,
      "metadata": {
        "id": "sQ2Rcn07qvsv"
      },
      "outputs": [],
      "source": [
        " #Dependencies\n",
        "import pandas as pd\n",
        "from nltk.corpus import stopwords\n",
        "from nltk.stem.porter import PorterStemmer\n",
        "from sklearn.feature_extraction.text import TfidfVectorizer\n",
        "import re\n",
        "from sklearn.model_selection import train_test_split\n",
        "from sklearn.linear_model import LogisticRegression\n",
        "from sklearn.metrics import accuracy_score\n",
        "#Plotting\n",
        "import matplotlib.pyplot as plt\n",
        "import seaborn as sns"
      ]
    },
    {
      "cell_type": "code",
      "source": [
        "#Reading Fake and True Dataset\n",
        "fake = pd.read_csv('/content/drive/MyDrive/Colab Notebooks/Fake News Detection/Fake.csv')\n",
        "true = pd.read_csv('/content/drive/MyDrive/Colab Notebooks/Fake News Detection/True.csv')"
      ],
      "metadata": {
        "id": "Ujtfms3Iq4QZ"
      },
      "execution_count": 9,
      "outputs": []
    },
    {
      "cell_type": "code",
      "source": [
        "fake.head()"
      ],
      "metadata": {
        "colab": {
          "base_uri": "https://localhost:8080/",
          "height": 206
        },
        "id": "god0QnlPxnRL",
        "outputId": "774bc67e-c66a-429c-9f12-aeaa91c9a9d4"
      },
      "execution_count": 10,
      "outputs": [
        {
          "output_type": "execute_result",
          "data": {
            "text/plain": [
              "                                               title  \\\n",
              "0   Donald Trump Sends Out Embarrassing New Year’...   \n",
              "1   Drunk Bragging Trump Staffer Started Russian ...   \n",
              "2   Sheriff David Clarke Becomes An Internet Joke...   \n",
              "3   Trump Is So Obsessed He Even Has Obama’s Name...   \n",
              "4   Pope Francis Just Called Out Donald Trump Dur...   \n",
              "\n",
              "                                                text subject  \\\n",
              "0  Donald Trump just couldn t wish all Americans ...    News   \n",
              "1  House Intelligence Committee Chairman Devin Nu...    News   \n",
              "2  On Friday, it was revealed that former Milwauk...    News   \n",
              "3  On Christmas day, Donald Trump announced that ...    News   \n",
              "4  Pope Francis used his annual Christmas Day mes...    News   \n",
              "\n",
              "                date  \n",
              "0  December 31, 2017  \n",
              "1  December 31, 2017  \n",
              "2  December 30, 2017  \n",
              "3  December 29, 2017  \n",
              "4  December 25, 2017  "
            ],
            "text/html": [
              "\n",
              "  <div id=\"df-7d751f17-3455-40fa-843b-e039a4e2c3b6\">\n",
              "    <div class=\"colab-df-container\">\n",
              "      <div>\n",
              "<style scoped>\n",
              "    .dataframe tbody tr th:only-of-type {\n",
              "        vertical-align: middle;\n",
              "    }\n",
              "\n",
              "    .dataframe tbody tr th {\n",
              "        vertical-align: top;\n",
              "    }\n",
              "\n",
              "    .dataframe thead th {\n",
              "        text-align: right;\n",
              "    }\n",
              "</style>\n",
              "<table border=\"1\" class=\"dataframe\">\n",
              "  <thead>\n",
              "    <tr style=\"text-align: right;\">\n",
              "      <th></th>\n",
              "      <th>title</th>\n",
              "      <th>text</th>\n",
              "      <th>subject</th>\n",
              "      <th>date</th>\n",
              "    </tr>\n",
              "  </thead>\n",
              "  <tbody>\n",
              "    <tr>\n",
              "      <th>0</th>\n",
              "      <td>Donald Trump Sends Out Embarrassing New Year’...</td>\n",
              "      <td>Donald Trump just couldn t wish all Americans ...</td>\n",
              "      <td>News</td>\n",
              "      <td>December 31, 2017</td>\n",
              "    </tr>\n",
              "    <tr>\n",
              "      <th>1</th>\n",
              "      <td>Drunk Bragging Trump Staffer Started Russian ...</td>\n",
              "      <td>House Intelligence Committee Chairman Devin Nu...</td>\n",
              "      <td>News</td>\n",
              "      <td>December 31, 2017</td>\n",
              "    </tr>\n",
              "    <tr>\n",
              "      <th>2</th>\n",
              "      <td>Sheriff David Clarke Becomes An Internet Joke...</td>\n",
              "      <td>On Friday, it was revealed that former Milwauk...</td>\n",
              "      <td>News</td>\n",
              "      <td>December 30, 2017</td>\n",
              "    </tr>\n",
              "    <tr>\n",
              "      <th>3</th>\n",
              "      <td>Trump Is So Obsessed He Even Has Obama’s Name...</td>\n",
              "      <td>On Christmas day, Donald Trump announced that ...</td>\n",
              "      <td>News</td>\n",
              "      <td>December 29, 2017</td>\n",
              "    </tr>\n",
              "    <tr>\n",
              "      <th>4</th>\n",
              "      <td>Pope Francis Just Called Out Donald Trump Dur...</td>\n",
              "      <td>Pope Francis used his annual Christmas Day mes...</td>\n",
              "      <td>News</td>\n",
              "      <td>December 25, 2017</td>\n",
              "    </tr>\n",
              "  </tbody>\n",
              "</table>\n",
              "</div>\n",
              "      <button class=\"colab-df-convert\" onclick=\"convertToInteractive('df-7d751f17-3455-40fa-843b-e039a4e2c3b6')\"\n",
              "              title=\"Convert this dataframe to an interactive table.\"\n",
              "              style=\"display:none;\">\n",
              "        \n",
              "  <svg xmlns=\"http://www.w3.org/2000/svg\" height=\"24px\"viewBox=\"0 0 24 24\"\n",
              "       width=\"24px\">\n",
              "    <path d=\"M0 0h24v24H0V0z\" fill=\"none\"/>\n",
              "    <path d=\"M18.56 5.44l.94 2.06.94-2.06 2.06-.94-2.06-.94-.94-2.06-.94 2.06-2.06.94zm-11 1L8.5 8.5l.94-2.06 2.06-.94-2.06-.94L8.5 2.5l-.94 2.06-2.06.94zm10 10l.94 2.06.94-2.06 2.06-.94-2.06-.94-.94-2.06-.94 2.06-2.06.94z\"/><path d=\"M17.41 7.96l-1.37-1.37c-.4-.4-.92-.59-1.43-.59-.52 0-1.04.2-1.43.59L10.3 9.45l-7.72 7.72c-.78.78-.78 2.05 0 2.83L4 21.41c.39.39.9.59 1.41.59.51 0 1.02-.2 1.41-.59l7.78-7.78 2.81-2.81c.8-.78.8-2.07 0-2.86zM5.41 20L4 18.59l7.72-7.72 1.47 1.35L5.41 20z\"/>\n",
              "  </svg>\n",
              "      </button>\n",
              "      \n",
              "  <style>\n",
              "    .colab-df-container {\n",
              "      display:flex;\n",
              "      flex-wrap:wrap;\n",
              "      gap: 12px;\n",
              "    }\n",
              "\n",
              "    .colab-df-convert {\n",
              "      background-color: #E8F0FE;\n",
              "      border: none;\n",
              "      border-radius: 50%;\n",
              "      cursor: pointer;\n",
              "      display: none;\n",
              "      fill: #1967D2;\n",
              "      height: 32px;\n",
              "      padding: 0 0 0 0;\n",
              "      width: 32px;\n",
              "    }\n",
              "\n",
              "    .colab-df-convert:hover {\n",
              "      background-color: #E2EBFA;\n",
              "      box-shadow: 0px 1px 2px rgba(60, 64, 67, 0.3), 0px 1px 3px 1px rgba(60, 64, 67, 0.15);\n",
              "      fill: #174EA6;\n",
              "    }\n",
              "\n",
              "    [theme=dark] .colab-df-convert {\n",
              "      background-color: #3B4455;\n",
              "      fill: #D2E3FC;\n",
              "    }\n",
              "\n",
              "    [theme=dark] .colab-df-convert:hover {\n",
              "      background-color: #434B5C;\n",
              "      box-shadow: 0px 1px 3px 1px rgba(0, 0, 0, 0.15);\n",
              "      filter: drop-shadow(0px 1px 2px rgba(0, 0, 0, 0.3));\n",
              "      fill: #FFFFFF;\n",
              "    }\n",
              "  </style>\n",
              "\n",
              "      <script>\n",
              "        const buttonEl =\n",
              "          document.querySelector('#df-7d751f17-3455-40fa-843b-e039a4e2c3b6 button.colab-df-convert');\n",
              "        buttonEl.style.display =\n",
              "          google.colab.kernel.accessAllowed ? 'block' : 'none';\n",
              "\n",
              "        async function convertToInteractive(key) {\n",
              "          const element = document.querySelector('#df-7d751f17-3455-40fa-843b-e039a4e2c3b6');\n",
              "          const dataTable =\n",
              "            await google.colab.kernel.invokeFunction('convertToInteractive',\n",
              "                                                     [key], {});\n",
              "          if (!dataTable) return;\n",
              "\n",
              "          const docLinkHtml = 'Like what you see? Visit the ' +\n",
              "            '<a target=\"_blank\" href=https://colab.research.google.com/notebooks/data_table.ipynb>data table notebook</a>'\n",
              "            + ' to learn more about interactive tables.';\n",
              "          element.innerHTML = '';\n",
              "          dataTable['output_type'] = 'display_data';\n",
              "          await google.colab.output.renderOutput(dataTable, element);\n",
              "          const docLink = document.createElement('div');\n",
              "          docLink.innerHTML = docLinkHtml;\n",
              "          element.appendChild(docLink);\n",
              "        }\n",
              "      </script>\n",
              "    </div>\n",
              "  </div>\n",
              "  "
            ]
          },
          "metadata": {},
          "execution_count": 10
        }
      ]
    },
    {
      "cell_type": "code",
      "source": [
        "true.head()"
      ],
      "metadata": {
        "colab": {
          "base_uri": "https://localhost:8080/",
          "height": 206
        },
        "id": "IyLMT5cKxseX",
        "outputId": "201a93bf-8532-4cad-9e1a-10c3660e6c6d"
      },
      "execution_count": 11,
      "outputs": [
        {
          "output_type": "execute_result",
          "data": {
            "text/plain": [
              "                                               title  \\\n",
              "0  As U.S. budget fight looms, Republicans flip t...   \n",
              "1  U.S. military to accept transgender recruits o...   \n",
              "2  Senior U.S. Republican senator: 'Let Mr. Muell...   \n",
              "3  FBI Russia probe helped by Australian diplomat...   \n",
              "4  Trump wants Postal Service to charge 'much mor...   \n",
              "\n",
              "                                                text       subject  \\\n",
              "0  WASHINGTON (Reuters) - The head of a conservat...  politicsNews   \n",
              "1  WASHINGTON (Reuters) - Transgender people will...  politicsNews   \n",
              "2  WASHINGTON (Reuters) - The special counsel inv...  politicsNews   \n",
              "3  WASHINGTON (Reuters) - Trump campaign adviser ...  politicsNews   \n",
              "4  SEATTLE/WASHINGTON (Reuters) - President Donal...  politicsNews   \n",
              "\n",
              "                 date  \n",
              "0  December 31, 2017   \n",
              "1  December 29, 2017   \n",
              "2  December 31, 2017   \n",
              "3  December 30, 2017   \n",
              "4  December 29, 2017   "
            ],
            "text/html": [
              "\n",
              "  <div id=\"df-5fd49e8a-6b39-476a-a7d3-45f96e5a3f85\">\n",
              "    <div class=\"colab-df-container\">\n",
              "      <div>\n",
              "<style scoped>\n",
              "    .dataframe tbody tr th:only-of-type {\n",
              "        vertical-align: middle;\n",
              "    }\n",
              "\n",
              "    .dataframe tbody tr th {\n",
              "        vertical-align: top;\n",
              "    }\n",
              "\n",
              "    .dataframe thead th {\n",
              "        text-align: right;\n",
              "    }\n",
              "</style>\n",
              "<table border=\"1\" class=\"dataframe\">\n",
              "  <thead>\n",
              "    <tr style=\"text-align: right;\">\n",
              "      <th></th>\n",
              "      <th>title</th>\n",
              "      <th>text</th>\n",
              "      <th>subject</th>\n",
              "      <th>date</th>\n",
              "    </tr>\n",
              "  </thead>\n",
              "  <tbody>\n",
              "    <tr>\n",
              "      <th>0</th>\n",
              "      <td>As U.S. budget fight looms, Republicans flip t...</td>\n",
              "      <td>WASHINGTON (Reuters) - The head of a conservat...</td>\n",
              "      <td>politicsNews</td>\n",
              "      <td>December 31, 2017</td>\n",
              "    </tr>\n",
              "    <tr>\n",
              "      <th>1</th>\n",
              "      <td>U.S. military to accept transgender recruits o...</td>\n",
              "      <td>WASHINGTON (Reuters) - Transgender people will...</td>\n",
              "      <td>politicsNews</td>\n",
              "      <td>December 29, 2017</td>\n",
              "    </tr>\n",
              "    <tr>\n",
              "      <th>2</th>\n",
              "      <td>Senior U.S. Republican senator: 'Let Mr. Muell...</td>\n",
              "      <td>WASHINGTON (Reuters) - The special counsel inv...</td>\n",
              "      <td>politicsNews</td>\n",
              "      <td>December 31, 2017</td>\n",
              "    </tr>\n",
              "    <tr>\n",
              "      <th>3</th>\n",
              "      <td>FBI Russia probe helped by Australian diplomat...</td>\n",
              "      <td>WASHINGTON (Reuters) - Trump campaign adviser ...</td>\n",
              "      <td>politicsNews</td>\n",
              "      <td>December 30, 2017</td>\n",
              "    </tr>\n",
              "    <tr>\n",
              "      <th>4</th>\n",
              "      <td>Trump wants Postal Service to charge 'much mor...</td>\n",
              "      <td>SEATTLE/WASHINGTON (Reuters) - President Donal...</td>\n",
              "      <td>politicsNews</td>\n",
              "      <td>December 29, 2017</td>\n",
              "    </tr>\n",
              "  </tbody>\n",
              "</table>\n",
              "</div>\n",
              "      <button class=\"colab-df-convert\" onclick=\"convertToInteractive('df-5fd49e8a-6b39-476a-a7d3-45f96e5a3f85')\"\n",
              "              title=\"Convert this dataframe to an interactive table.\"\n",
              "              style=\"display:none;\">\n",
              "        \n",
              "  <svg xmlns=\"http://www.w3.org/2000/svg\" height=\"24px\"viewBox=\"0 0 24 24\"\n",
              "       width=\"24px\">\n",
              "    <path d=\"M0 0h24v24H0V0z\" fill=\"none\"/>\n",
              "    <path d=\"M18.56 5.44l.94 2.06.94-2.06 2.06-.94-2.06-.94-.94-2.06-.94 2.06-2.06.94zm-11 1L8.5 8.5l.94-2.06 2.06-.94-2.06-.94L8.5 2.5l-.94 2.06-2.06.94zm10 10l.94 2.06.94-2.06 2.06-.94-2.06-.94-.94-2.06-.94 2.06-2.06.94z\"/><path d=\"M17.41 7.96l-1.37-1.37c-.4-.4-.92-.59-1.43-.59-.52 0-1.04.2-1.43.59L10.3 9.45l-7.72 7.72c-.78.78-.78 2.05 0 2.83L4 21.41c.39.39.9.59 1.41.59.51 0 1.02-.2 1.41-.59l7.78-7.78 2.81-2.81c.8-.78.8-2.07 0-2.86zM5.41 20L4 18.59l7.72-7.72 1.47 1.35L5.41 20z\"/>\n",
              "  </svg>\n",
              "      </button>\n",
              "      \n",
              "  <style>\n",
              "    .colab-df-container {\n",
              "      display:flex;\n",
              "      flex-wrap:wrap;\n",
              "      gap: 12px;\n",
              "    }\n",
              "\n",
              "    .colab-df-convert {\n",
              "      background-color: #E8F0FE;\n",
              "      border: none;\n",
              "      border-radius: 50%;\n",
              "      cursor: pointer;\n",
              "      display: none;\n",
              "      fill: #1967D2;\n",
              "      height: 32px;\n",
              "      padding: 0 0 0 0;\n",
              "      width: 32px;\n",
              "    }\n",
              "\n",
              "    .colab-df-convert:hover {\n",
              "      background-color: #E2EBFA;\n",
              "      box-shadow: 0px 1px 2px rgba(60, 64, 67, 0.3), 0px 1px 3px 1px rgba(60, 64, 67, 0.15);\n",
              "      fill: #174EA6;\n",
              "    }\n",
              "\n",
              "    [theme=dark] .colab-df-convert {\n",
              "      background-color: #3B4455;\n",
              "      fill: #D2E3FC;\n",
              "    }\n",
              "\n",
              "    [theme=dark] .colab-df-convert:hover {\n",
              "      background-color: #434B5C;\n",
              "      box-shadow: 0px 1px 3px 1px rgba(0, 0, 0, 0.15);\n",
              "      filter: drop-shadow(0px 1px 2px rgba(0, 0, 0, 0.3));\n",
              "      fill: #FFFFFF;\n",
              "    }\n",
              "  </style>\n",
              "\n",
              "      <script>\n",
              "        const buttonEl =\n",
              "          document.querySelector('#df-5fd49e8a-6b39-476a-a7d3-45f96e5a3f85 button.colab-df-convert');\n",
              "        buttonEl.style.display =\n",
              "          google.colab.kernel.accessAllowed ? 'block' : 'none';\n",
              "\n",
              "        async function convertToInteractive(key) {\n",
              "          const element = document.querySelector('#df-5fd49e8a-6b39-476a-a7d3-45f96e5a3f85');\n",
              "          const dataTable =\n",
              "            await google.colab.kernel.invokeFunction('convertToInteractive',\n",
              "                                                     [key], {});\n",
              "          if (!dataTable) return;\n",
              "\n",
              "          const docLinkHtml = 'Like what you see? Visit the ' +\n",
              "            '<a target=\"_blank\" href=https://colab.research.google.com/notebooks/data_table.ipynb>data table notebook</a>'\n",
              "            + ' to learn more about interactive tables.';\n",
              "          element.innerHTML = '';\n",
              "          dataTable['output_type'] = 'display_data';\n",
              "          await google.colab.output.renderOutput(dataTable, element);\n",
              "          const docLink = document.createElement('div');\n",
              "          docLink.innerHTML = docLinkHtml;\n",
              "          element.appendChild(docLink);\n",
              "        }\n",
              "      </script>\n",
              "    </div>\n",
              "  </div>\n",
              "  "
            ]
          },
          "metadata": {},
          "execution_count": 11
        }
      ]
    },
    {
      "cell_type": "markdown",
      "source": [
        "## **Pre-Processing**"
      ],
      "metadata": {
        "id": "bKSM3a87Wt3C"
      }
    },
    {
      "cell_type": "code",
      "source": [
        "#Priting Null/Missing values if exist in True data\n",
        "true.isnull().sum()"
      ],
      "metadata": {
        "colab": {
          "base_uri": "https://localhost:8080/",
          "height": 0
        },
        "id": "-5-EVc7rJs2W",
        "outputId": "32446551-6c38-4deb-f38f-084c4314cc90"
      },
      "execution_count": 12,
      "outputs": [
        {
          "output_type": "execute_result",
          "data": {
            "text/plain": [
              "title      0\n",
              "text       0\n",
              "subject    0\n",
              "date       0\n",
              "dtype: int64"
            ]
          },
          "metadata": {},
          "execution_count": 12
        }
      ]
    },
    {
      "cell_type": "code",
      "source": [
        "#Priting Null/Missing values if exist in Fake data\n",
        "fake.isnull().sum()"
      ],
      "metadata": {
        "colab": {
          "base_uri": "https://localhost:8080/",
          "height": 0
        },
        "id": "EZwDJKRfZqKD",
        "outputId": "f8a7ecee-b304-4603-dc0d-aa66ceff711e"
      },
      "execution_count": 13,
      "outputs": [
        {
          "output_type": "execute_result",
          "data": {
            "text/plain": [
              "title      0\n",
              "text       0\n",
              "subject    0\n",
              "date       0\n",
              "dtype: int64"
            ]
          },
          "metadata": {},
          "execution_count": 13
        }
      ]
    },
    {
      "cell_type": "code",
      "source": [
        "#Printing Unique Subject in True Data\n",
        "true['subject'].unique()"
      ],
      "metadata": {
        "colab": {
          "base_uri": "https://localhost:8080/",
          "height": 0
        },
        "id": "9l3i--7kAH0B",
        "outputId": "ba54f446-2c5f-4bdc-d0ac-9c7ab22292c6"
      },
      "execution_count": 14,
      "outputs": [
        {
          "output_type": "execute_result",
          "data": {
            "text/plain": [
              "array(['politicsNews', 'worldnews'], dtype=object)"
            ]
          },
          "metadata": {},
          "execution_count": 14
        }
      ]
    },
    {
      "cell_type": "code",
      "source": [
        "#Pie Chart of Unique Subject\n",
        "true['subject'].value_counts().plot.pie(figsize = (8,8), startangle = 75,explode=[0.1,0.1],autopct='%1.1f%%')\n",
        "plt.title('Types of articles', fontsize = 20)\n",
        "plt.axis('on')\n",
        "plt.show()"
      ],
      "metadata": {
        "colab": {
          "base_uri": "https://localhost:8080/",
          "height": 487
        },
        "id": "VNG7graLBDNY",
        "outputId": "21969032-1b3f-44b1-91bc-f576a613861a"
      },
      "execution_count": 15,
      "outputs": [
        {
          "output_type": "display_data",
          "data": {
            "text/plain": [
              "<Figure size 576x576 with 1 Axes>"
            ],
            "image/png": "[encoded data removed]"
          },
          "metadata": {}
        }
      ]
    },
    {
      "cell_type": "code",
      "source": [
        "#Printing Unique Subject in False Data\n",
        "fake['subject'].unique()"
      ],
      "metadata": {
        "colab": {
          "base_uri": "https://localhost:8080/",
          "height": 0
        },
        "id": "R7_mKzTQAl3Z",
        "outputId": "bf1ae371-ed84-4649-de85-53f59a071e14"
      },
      "execution_count": 16,
      "outputs": [
        {
          "output_type": "execute_result",
          "data": {
            "text/plain": [
              "array(['News', 'politics', 'Government News', 'left-news', 'US_News',\n",
              "       'Middle-east'], dtype=object)"
            ]
          },
          "metadata": {},
          "execution_count": 16
        }
      ]
    },
    {
      "cell_type": "code",
      "source": [
        "#Pie Chart of Unique Subject\n",
        "fake['subject'].value_counts().plot.pie(figsize = (8,8),startangle = 75,autopct='%1.1f%%')\n",
        "plt.title('Types of articles', fontsize = 20)\n",
        "plt.axis('on')\n",
        "plt.show()"
      ],
      "metadata": {
        "colab": {
          "base_uri": "https://localhost:8080/",
          "height": 487
        },
        "id": "KJuNJX_2BJm-",
        "outputId": "9c03375d-f577-46d8-f178-edf17d251bdf"
      },
      "execution_count": 17,
      "outputs": [
        {
          "output_type": "display_data",
          "data": {
            "text/plain": [
              "<Figure size 576x576 with 1 Axes>"
            ],
            "image/png": "[encoded data removed]"
          },
          "metadata": {}
        }
      ]
    },
    {
      "cell_type": "markdown",
      "source": [
        "**Labelling and Merging Fake and True Data**"
      ],
      "metadata": {
        "id": "dRu6vEw2aJL5"
      }
    },
    {
      "cell_type": "code",
      "source": [
        "#Labelling data by adding the target column\n",
        "# 1 representing Fake and 0 representing True\n",
        "fake[\"target\"] = 1\n",
        "true[\"target\"] = 0"
      ],
      "metadata": {
        "id": "t1feyHF1xPY1"
      },
      "execution_count": 18,
      "outputs": []
    },
    {
      "cell_type": "code",
      "source": [
        "#True and Fake data is merged\n",
        "df = pd.concat([true, fake], axis=0)\n",
        "df = df.sample(frac=1.0, random_state=0)\n",
        "df.index = [i for i in range(df.shape[0])]"
      ],
      "metadata": {
        "id": "a34Ye-Zpwret"
      },
      "execution_count": 19,
      "outputs": []
    },
    {
      "cell_type": "code",
      "source": [
        "df"
      ],
      "metadata": {
        "colab": {
          "base_uri": "https://localhost:8080/",
          "height": 537
        },
        "id": "V3JbuXf7avXY",
        "outputId": "0e366313-b7f9-44fe-f859-17355a091a32"
      },
      "execution_count": 20,
      "outputs": [
        {
          "output_type": "execute_result",
          "data": {
            "text/plain": [
              "                                                   title  \\\n",
              "0      RUBIO Sides With Democrats On Giving A Whoppin...   \n",
              "1       Ted Cruz Says Endorsing Trump Is A ‘Grave Mis...   \n",
              "2       ‘Responsible Gun Owner’ Road Rages, Threatens...   \n",
              "3      TEACHER’S UNION PROTEST Gets Ugly As Protester...   \n",
              "4      Etihad advises checks with U.S. missions after...   \n",
              "...                                                  ...   \n",
              "44893   Paul Krugman: Obama Rolled Back RONALD REAGAN...   \n",
              "44894  Guatemala top court sides with U.N. graft unit...   \n",
              "44895  OOPS! NASA Makes Shocking Claim: Burning Fossi...   \n",
              "44896  Collapsing: Why the ‘Russia Hack’ Witch Hunt W...   \n",
              "44897  Jimmy Carter recovers from dehydration scare i...   \n",
              "\n",
              "                                                    text          subject  \\\n",
              "0      Democrats want to spend a whopping $2 billion ...         politics   \n",
              "1      Republican presidential candidate and Texas Se...             News   \n",
              "2      The National Rifle Association tells us that a...             News   \n",
              "3      In case you don t live in the Midwest, you mig...  Government News   \n",
              "4      DUBAI (Reuters) - Etihad Airways is advising s...     politicsNews   \n",
              "...                                                  ...              ...   \n",
              "44893  Paul Krugman, by his own admission, has been d...             News   \n",
              "44894  GUATEMALA CITY (Reuters) - Guatemala s top cou...        worldnews   \n",
              "44895   UNDER MY PLAN   ELECTRICITY RATES WOULD NECES...        left-news   \n",
              "44896  21st Century Wire says Washington s Russian wi...          US_News   \n",
              "44897  WINNIPEG, Manitoba (Reuters) - Former U.S. Pre...     politicsNews   \n",
              "\n",
              "                   date  target  \n",
              "0          May 16, 2016       1  \n",
              "1         March 1, 2016       1  \n",
              "2      February 2, 2016       1  \n",
              "3          Jan 20, 2016       1  \n",
              "4        March 7, 2017        0  \n",
              "...                 ...     ...  \n",
              "44893   January 4, 2016       1  \n",
              "44894  August 29, 2017        0  \n",
              "44895      Dec 23, 2015       1  \n",
              "44896    March 25, 2017       1  \n",
              "44897    July 14, 2017        0  \n",
              "\n",
              "[44898 rows x 5 columns]"
            ],
            "text/html": [
              "\n",
              "  <div id=\"df-7c164fbf-86e7-48aa-aeb6-680d869a9164\">\n",
              "    <div class=\"colab-df-container\">\n",
              "      <div>\n",
              "<style scoped>\n",
              "    .dataframe tbody tr th:only-of-type {\n",
              "        vertical-align: middle;\n",
              "    }\n",
              "\n",
              "    .dataframe tbody tr th {\n",
              "        vertical-align: top;\n",
              "    }\n",
              "\n",
              "    .dataframe thead th {\n",
              "        text-align: right;\n",
              "    }\n",
              "</style>\n",
              "<table border=\"1\" class=\"dataframe\">\n",
              "  <thead>\n",
              "    <tr style=\"text-align: right;\">\n",
              "      <th></th>\n",
              "      <th>title</th>\n",
              "      <th>text</th>\n",
              "      <th>subject</th>\n",
              "      <th>date</th>\n",
              "      <th>target</th>\n",
              "    </tr>\n",
              "  </thead>\n",
              "  <tbody>\n",
              "    <tr>\n",
              "      <th>0</th>\n",
              "      <td>RUBIO Sides With Democrats On Giving A Whoppin...</td>\n",
              "      <td>Democrats want to spend a whopping $2 billion ...</td>\n",
              "      <td>politics</td>\n",
              "      <td>May 16, 2016</td>\n",
              "      <td>1</td>\n",
              "    </tr>\n",
              "    <tr>\n",
              "      <th>1</th>\n",
              "      <td>Ted Cruz Says Endorsing Trump Is A ‘Grave Mis...</td>\n",
              "      <td>Republican presidential candidate and Texas Se...</td>\n",
              "      <td>News</td>\n",
              "      <td>March 1, 2016</td>\n",
              "      <td>1</td>\n",
              "    </tr>\n",
              "    <tr>\n",
              "      <th>2</th>\n",
              "      <td>‘Responsible Gun Owner’ Road Rages, Threatens...</td>\n",
              "      <td>The National Rifle Association tells us that a...</td>\n",
              "      <td>News</td>\n",
              "      <td>February 2, 2016</td>\n",
              "      <td>1</td>\n",
              "    </tr>\n",
              "    <tr>\n",
              "      <th>3</th>\n",
              "      <td>TEACHER’S UNION PROTEST Gets Ugly As Protester...</td>\n",
              "      <td>In case you don t live in the Midwest, you mig...</td>\n",
              "      <td>Government News</td>\n",
              "      <td>Jan 20, 2016</td>\n",
              "      <td>1</td>\n",
              "    </tr>\n",
              "    <tr>\n",
              "      <th>4</th>\n",
              "      <td>Etihad advises checks with U.S. missions after...</td>\n",
              "      <td>DUBAI (Reuters) - Etihad Airways is advising s...</td>\n",
              "      <td>politicsNews</td>\n",
              "      <td>March 7, 2017</td>\n",
              "      <td>0</td>\n",
              "    </tr>\n",
              "    <tr>\n",
              "      <th>...</th>\n",
              "      <td>...</td>\n",
              "      <td>...</td>\n",
              "      <td>...</td>\n",
              "      <td>...</td>\n",
              "      <td>...</td>\n",
              "    </tr>\n",
              "    <tr>\n",
              "      <th>44893</th>\n",
              "      <td>Paul Krugman: Obama Rolled Back RONALD REAGAN...</td>\n",
              "      <td>Paul Krugman, by his own admission, has been d...</td>\n",
              "      <td>News</td>\n",
              "      <td>January 4, 2016</td>\n",
              "      <td>1</td>\n",
              "    </tr>\n",
              "    <tr>\n",
              "      <th>44894</th>\n",
              "      <td>Guatemala top court sides with U.N. graft unit...</td>\n",
              "      <td>GUATEMALA CITY (Reuters) - Guatemala s top cou...</td>\n",
              "      <td>worldnews</td>\n",
              "      <td>August 29, 2017</td>\n",
              "      <td>0</td>\n",
              "    </tr>\n",
              "    <tr>\n",
              "      <th>44895</th>\n",
              "      <td>OOPS! NASA Makes Shocking Claim: Burning Fossi...</td>\n",
              "      <td>UNDER MY PLAN   ELECTRICITY RATES WOULD NECES...</td>\n",
              "      <td>left-news</td>\n",
              "      <td>Dec 23, 2015</td>\n",
              "      <td>1</td>\n",
              "    </tr>\n",
              "    <tr>\n",
              "      <th>44896</th>\n",
              "      <td>Collapsing: Why the ‘Russia Hack’ Witch Hunt W...</td>\n",
              "      <td>21st Century Wire says Washington s Russian wi...</td>\n",
              "      <td>US_News</td>\n",
              "      <td>March 25, 2017</td>\n",
              "      <td>1</td>\n",
              "    </tr>\n",
              "    <tr>\n",
              "      <th>44897</th>\n",
              "      <td>Jimmy Carter recovers from dehydration scare i...</td>\n",
              "      <td>WINNIPEG, Manitoba (Reuters) - Former U.S. Pre...</td>\n",
              "      <td>politicsNews</td>\n",
              "      <td>July 14, 2017</td>\n",
              "      <td>0</td>\n",
              "    </tr>\n",
              "  </tbody>\n",
              "</table>\n",
              "<p>44898 rows × 5 columns</p>\n",
              "</div>\n",
              "      <button class=\"colab-df-convert\" onclick=\"convertToInteractive('df-7c164fbf-86e7-48aa-aeb6-680d869a9164')\"\n",
              "              title=\"Convert this dataframe to an interactive table.\"\n",
              "              style=\"display:none;\">\n",
              "        \n",
              "  <svg xmlns=\"http://www.w3.org/2000/svg\" height=\"24px\"viewBox=\"0 0 24 24\"\n",
              "       width=\"24px\">\n",
              "    <path d=\"M0 0h24v24H0V0z\" fill=\"none\"/>\n",
              "    <path d=\"M18.56 5.44l.94 2.06.94-2.06 2.06-.94-2.06-.94-.94-2.06-.94 2.06-2.06.94zm-11 1L8.5 8.5l.94-2.06 2.06-.94-2.06-.94L8.5 2.5l-.94 2.06-2.06.94zm10 10l.94 2.06.94-2.06 2.06-.94-2.06-.94-.94-2.06-.94 2.06-2.06.94z\"/><path d=\"M17.41 7.96l-1.37-1.37c-.4-.4-.92-.59-1.43-.59-.52 0-1.04.2-1.43.59L10.3 9.45l-7.72 7.72c-.78.78-.78 2.05 0 2.83L4 21.41c.39.39.9.59 1.41.59.51 0 1.02-.2 1.41-.59l7.78-7.78 2.81-2.81c.8-.78.8-2.07 0-2.86zM5.41 20L4 18.59l7.72-7.72 1.47 1.35L5.41 20z\"/>\n",
              "  </svg>\n",
              "      </button>\n",
              "      \n",
              "  <style>\n",
              "    .colab-df-container {\n",
              "      display:flex;\n",
              "      flex-wrap:wrap;\n",
              "      gap: 12px;\n",
              "    }\n",
              "\n",
              "    .colab-df-convert {\n",
              "      background-color: #E8F0FE;\n",
              "      border: none;\n",
              "      border-radius: 50%;\n",
              "      cursor: pointer;\n",
              "      display: none;\n",
              "      fill: #1967D2;\n",
              "      height: 32px;\n",
              "      padding: 0 0 0 0;\n",
              "      width: 32px;\n",
              "    }\n",
              "\n",
              "    .colab-df-convert:hover {\n",
              "      background-color: #E2EBFA;\n",
              "      box-shadow: 0px 1px 2px rgba(60, 64, 67, 0.3), 0px 1px 3px 1px rgba(60, 64, 67, 0.15);\n",
              "      fill: #174EA6;\n",
              "    }\n",
              "\n",
              "    [theme=dark] .colab-df-convert {\n",
              "      background-color: #3B4455;\n",
              "      fill: #D2E3FC;\n",
              "    }\n",
              "\n",
              "    [theme=dark] .colab-df-convert:hover {\n",
              "      background-color: #434B5C;\n",
              "      box-shadow: 0px 1px 3px 1px rgba(0, 0, 0, 0.15);\n",
              "      filter: drop-shadow(0px 1px 2px rgba(0, 0, 0, 0.3));\n",
              "      fill: #FFFFFF;\n",
              "    }\n",
              "  </style>\n",
              "\n",
              "      <script>\n",
              "        const buttonEl =\n",
              "          document.querySelector('#df-7c164fbf-86e7-48aa-aeb6-680d869a9164 button.colab-df-convert');\n",
              "        buttonEl.style.display =\n",
              "          google.colab.kernel.accessAllowed ? 'block' : 'none';\n",
              "\n",
              "        async function convertToInteractive(key) {\n",
              "          const element = document.querySelector('#df-7c164fbf-86e7-48aa-aeb6-680d869a9164');\n",
              "          const dataTable =\n",
              "            await google.colab.kernel.invokeFunction('convertToInteractive',\n",
              "                                                     [key], {});\n",
              "          if (!dataTable) return;\n",
              "\n",
              "          const docLinkHtml = 'Like what you see? Visit the ' +\n",
              "            '<a target=\"_blank\" href=https://colab.research.google.com/notebooks/data_table.ipynb>data table notebook</a>'\n",
              "            + ' to learn more about interactive tables.';\n",
              "          element.innerHTML = '';\n",
              "          dataTable['output_type'] = 'display_data';\n",
              "          await google.colab.output.renderOutput(dataTable, element);\n",
              "          const docLink = document.createElement('div');\n",
              "          docLink.innerHTML = docLinkHtml;\n",
              "          element.appendChild(docLink);\n",
              "        }\n",
              "      </script>\n",
              "    </div>\n",
              "  </div>\n",
              "  "
            ]
          },
          "metadata": {},
          "execution_count": 20
        }
      ]
    },
    {
      "cell_type": "code",
      "source": [
        "#Pie chart of merged labelled data (True and False)\n",
        "df['subject'].value_counts().plot.pie(figsize = (8,10),startangle = 75, autopct='%1.1f%%')\n",
        "plt.title('Types of articles', fontsize = 20)\n",
        "plt.axis('on')\n",
        "plt.show()"
      ],
      "metadata": {
        "colab": {
          "base_uri": "https://localhost:8080/",
          "height": 498
        },
        "id": "Am1BLfinBxPa",
        "outputId": "1c087092-c211-47c6-bc5f-5b46216d33c2"
      },
      "execution_count": 21,
      "outputs": [
        {
          "output_type": "display_data",
          "data": {
            "text/plain": [
              "<Figure size 576x720 with 1 Axes>"
            ],
            "image/png": "[encoded data removed]"
          },
          "metadata": {}
        }
      ]
    },
    {
      "cell_type": "code",
      "source": [
        "#Combining Text and Title together\n",
        "df[\"text\"] = df[\"text\"]+\" \"+df[\"title\"]\n",
        "df[\"text\"]"
      ],
      "metadata": {
        "colab": {
          "base_uri": "https://localhost:8080/",
          "height": 0
        },
        "id": "fGeb13YVTB7e",
        "outputId": "ee7bf040-1330-4e1e-9e26-1442710577a3"
      },
      "execution_count": 22,
      "outputs": [
        {
          "output_type": "execute_result",
          "data": {
            "text/plain": [
              "0        Democrats want to spend a whopping $2 billion ...\n",
              "1        Republican presidential candidate and Texas Se...\n",
              "2        The National Rifle Association tells us that a...\n",
              "3        In case you don t live in the Midwest, you mig...\n",
              "4        DUBAI (Reuters) - Etihad Airways is advising s...\n",
              "                               ...                        \n",
              "44893    Paul Krugman, by his own admission, has been d...\n",
              "44894    GUATEMALA CITY (Reuters) - Guatemala s top cou...\n",
              "44895     UNDER MY PLAN   ELECTRICITY RATES WOULD NECES...\n",
              "44896    21st Century Wire says Washington s Russian wi...\n",
              "44897    WINNIPEG, Manitoba (Reuters) - Former U.S. Pre...\n",
              "Name: text, Length: 44898, dtype: object"
            ]
          },
          "metadata": {},
          "execution_count": 22
        }
      ]
    },
    {
      "cell_type": "markdown",
      "source": [
        "**Downloading stopwords**"
      ],
      "metadata": {
        "id": "SJA6QxNnw8wb"
      }
    },
    {
      "cell_type": "code",
      "source": [
        "import nltk\n",
        "nltk.download('stopwords')"
      ],
      "metadata": {
        "colab": {
          "base_uri": "https://localhost:8080/",
          "height": 0
        },
        "id": "obccQj1ddYKG",
        "outputId": "abeabc2a-e840-400c-e3c6-a4d852907caa"
      },
      "execution_count": 23,
      "outputs": [
        {
          "output_type": "stream",
          "name": "stderr",
          "text": [
            "[nltk_data] Downloading package stopwords to /root/nltk_data...\n",
            "[nltk_data]   Unzipping corpora/stopwords.zip.\n"
          ]
        },
        {
          "output_type": "execute_result",
          "data": {
            "text/plain": [
              "True"
            ]
          },
          "metadata": {},
          "execution_count": 23
        }
      ]
    },
    {
      "cell_type": "code",
      "source": [
        "# printing the stopwords in English\n",
        "print(stopwords.words('english'))"
      ],
      "metadata": {
        "colab": {
          "base_uri": "https://localhost:8080/",
          "height": 0
        },
        "id": "pRrUibSunJqZ",
        "outputId": "915de651-1c73-4193-ac45-2419a80aff2e"
      },
      "execution_count": 24,
      "outputs": [
        {
          "output_type": "stream",
          "name": "stdout",
          "text": [
            "['i', 'me', 'my', 'myself', 'we', 'our', 'ours', 'ourselves', 'you', \"you're\", \"you've\", \"you'll\", \"you'd\", 'your', 'yours', 'yourself', 'yourselves', 'he', 'him', 'his', 'himself', 'she', \"she's\", 'her', 'hers', 'herself', 'it', \"it's\", 'its', 'itself', 'they', 'them', 'their', 'theirs', 'themselves', 'what', 'which', 'who', 'whom', 'this', 'that', \"that'll\", 'these', 'those', 'am', 'is', 'are', 'was', 'were', 'be', 'been', 'being', 'have', 'has', 'had', 'having', 'do', 'does', 'did', 'doing', 'a', 'an', 'the', 'and', 'but', 'if', 'or', 'because', 'as', 'until', 'while', 'of', 'at', 'by', 'for', 'with', 'about', 'against', 'between', 'into', 'through', 'during', 'before', 'after', 'above', 'below', 'to', 'from', 'up', 'down', 'in', 'out', 'on', 'off', 'over', 'under', 'again', 'further', 'then', 'once', 'here', 'there', 'when', 'where', 'why', 'how', 'all', 'any', 'both', 'each', 'few', 'more', 'most', 'other', 'some', 'such', 'no', 'nor', 'not', 'only', 'own', 'same', 'so', 'than', 'too', 'very', 's', 't', 'can', 'will', 'just', 'don', \"don't\", 'should', \"should've\", 'now', 'd', 'll', 'm', 'o', 're', 've', 'y', 'ain', 'aren', \"aren't\", 'couldn', \"couldn't\", 'didn', \"didn't\", 'doesn', \"doesn't\", 'hadn', \"hadn't\", 'hasn', \"hasn't\", 'haven', \"haven't\", 'isn', \"isn't\", 'ma', 'mightn', \"mightn't\", 'mustn', \"mustn't\", 'needn', \"needn't\", 'shan', \"shan't\", 'shouldn', \"shouldn't\", 'wasn', \"wasn't\", 'weren', \"weren't\", 'won', \"won't\", 'wouldn', \"wouldn't\"]\n"
          ]
        }
      ]
    },
    {
      "cell_type": "markdown",
      "source": [
        "**Data Cleaning**"
      ],
      "metadata": {
        "id": "K1Y6lNtLxQ5i"
      }
    },
    {
      "cell_type": "code",
      "source": [
        "port_stem = PorterStemmer()\n",
        "def stemming(content):\n",
        "    stemmed_content = re.sub('[^a-zA-Z]',' ',content)\n",
        "    stemmed_content = stemmed_content.lower()\n",
        "    stemmed_content = stemmed_content.split()\n",
        "    stemmed_content = [port_stem.stem(word) for word in stemmed_content if not word in stopwords.words('english')]\n",
        "    stemmed_content = ' '.join(stemmed_content)\n",
        "    return stemmed_content"
      ],
      "metadata": {
        "id": "A2NQcZWFnOvH"
      },
      "execution_count": 25,
      "outputs": []
    },
    {
      "cell_type": "code",
      "source": [
        "df['text'] = df['text'].apply(stemming)"
      ],
      "metadata": {
        "id": "1qE5hUvznaXD"
      },
      "execution_count": 26,
      "outputs": []
    },
    {
      "cell_type": "code",
      "source": [
        "print(df['text'])"
      ],
      "metadata": {
        "colab": {
          "base_uri": "https://localhost:8080/",
          "height": 0
        },
        "id": "rbh67Bo5nigA",
        "outputId": "786e4d49-b019-430d-8559-7e4d677f1f12"
      },
      "execution_count": 27,
      "outputs": [
        {
          "output_type": "stream",
          "name": "stdout",
          "text": [
            "0        democrat want spend whop billion zika viru pre...\n",
            "1        republican presidenti candid texa senat ted cr...\n",
            "2        nation rifl associ tell us need ensur safeti g...\n",
            "3        case live midwest might notic fight continu de...\n",
            "4        dubai reuter etihad airway advis passeng check...\n",
            "                               ...                        \n",
            "44893    paul krugman admiss drool releas ir tax tabl s...\n",
            "44894    guatemala citi reuter guatemala top court tues...\n",
            "44895    plan electr rate would necessarili skyrocket s...\n",
            "44896    st centuri wire say washington russian witch h...\n",
            "44897    winnipeg manitoba reuter former u presid jimmi...\n",
            "Name: text, Length: 44898, dtype: object\n"
          ]
        }
      ]
    },
    {
      "cell_type": "code",
      "source": [
        "#Seprating label from data\n",
        "X = df['text'].values\n",
        "y = df['target'].values\n",
        "X,y"
      ],
      "metadata": {
        "colab": {
          "base_uri": "https://localhost:8080/",
          "height": 0
        },
        "id": "GCo35W6FnnD5",
        "outputId": "0f81c0e4-264b-47fa-9a12-3d0ab15b531e"
      },
      "execution_count": 28,
      "outputs": [
        {
          "output_type": "execute_result",
          "data": {
            "text/plain": [
              "(array(['democrat want spend whop billion zika viru prevent republican demand control rubio call stingi feder dollar guy realli republican two month run one conserv candid gop presidenti race sen marco rubio embrac democrat call open feder checkbook dole billion dollar money combat zika viru tack onto debt mr rubio whose home state florida risk seriou outbreak co sponsor legisl fulli fund presid obama nearli billion emerg spend request blast fellow republican stingi demand proof control mr rubio finish first term ditch senat end year said new spend offset fine also fine tack onto debt leav other pay time public health emerg like natur disast delay act figur tri agre go cut part budget said floor speech last week mr rubio give democrat polit cover congress prepar fight week mosquito born zika viru health expert say breakout u yet fear one loom summer heat hous gop releas plan monday would alloc million toward zika take money exist ebola money elsewher read wt rubio side democrat give whop billion zika viru prevent',\n",
              "        'republican presidenti candid texa senat ted cruz believ everi ounc donald trump white hous grave mistak confess would endors disgrac gop candid anyway cruz reveal sunday cnn state union host jack tapper ask cruz recent attack trump conserv especi presidenti candid marco rubio r fl outdon cruz also choic word trump blast front runner stand behind plan parenthood plan stay neutral israel palestinian longtim support expand obamacar berni sander style social medicin put govern charg health care put govern bureaucrat posit ration care especi senior cruz absolut terrifi presid trump could mean america warn donald becom presid heck know would even donald know would think challeng face nation grave roll dice cruz made perfectli clear interview felt trump presid would worst case scenario america tapper press see would still back rival trump took nomin cruz answer puzzl neg thing said trump cruz still felt support republican nomine period end respons cruz absolut infuri goe beyond stupid cruz recogn trump dishonest terribl offens unqualifi without question wrong person lead countri still advoc republican cruz wise enough know even though want democrat presid white hous america would far capabl hand much safer watch interview anoth part interview tapper also ask question candid john kasich r oh kasich echo cruz opinion said end day go support person came arena becam nomine insan respons cruz kasich entir blame republican nation committe basic forc back trump win nomin everi gop candid took solemn oath support whichev candid win republican parti nomin unfortun gop bitter left lean polit would rather support candid go destroy america explor altern possibl capabl democrat candid cannot see far enough past narrow mind view hate rhetor see futur america greatli jeopard trump rather watch crash burn trust someon outsid gop featur imag via flickr ted cruz say endors trump grave mistak promis anyway video',\n",
              "        'nation rifl associ tell us need ensur safeti good guy gun respons gun owner carri weapon around readi leap action drop hat save day bad guy gun caus troubl unfortun good guy bad guy gun look exactli someon pull weapon nefari intent nevada man narrowli escap encount good guy turn bad guy ride motorcycl friend along highway man red pickup truck lane flip man told ktnv wish remain unidentifi bird prompt biker confront stop light man polit tap window pickup truck effort inquir enrag men pickup truck unfortun chanc diplomaci passeng roll window well driver get goddamn gun motherf cker driver cours listen driver immedi point gun motorcyclist demand get f ck away ask flip motorcyclist driver accus member group wildli cross traffic someth visibl video motorcyclist upload youtub f cking get shot passeng yell fortun one shot incid investig henderson polic motorcyclist say regret approach vehicl matter big bad much weight lift alway somebodi bigger badder put place real quick unfortun situat one bigger badder encount small man whose feel inadequaci caus react threat violenc rather word small man happen gun watch incid unfold youtub http www youtub com watch v upcvq n ly rel amp showinfo w h news report featur imag via screengrab respons gun owner road rage threaten shoot motorcyclist video',\n",
              "        ...,\n",
              "        'plan electr rate would necessarili skyrocket somebodi want build coal fire power plant bankrupt barack obama podesta said presid commit use execut order pass regul clean air act limit carbon dioxid emiss say caus global warm may tri taker end pennsylvania avenu may major theori caus temperatur rise thrown doubt nasa found earth cool area heavi industrialis tree lost fossil fuel burn take place environmentalist long argu burn fossil fuel power station use respons global warm predict temperatur increas high level carbon dioxid produc caus global greenhous effect find disput effect carbon dioxid global warm found aerosol also given burn fossil fuel actual cool local environ least temporarili research carri see current climat chang model calcul futur temperatur take account factor accur nasa spokesman said quantifi climat chang research need know transient climat respons tcr equilibrium climat sensit ec earth valu project global mean surfac temperatur chang respons doubl atmospher carbon dioxid concentr differ timescal tcr characterist short term predict centuri ec look centuri futur entir climat system reach equilibrium temperatur stabilis spokesman said well known aerosol emit volcan erupt power station act cool earth least temporarili reflect solar radiat away planet ad similar fashion land use chang deforest northern latitud result bare land increas reflect sunlight kate marvel climatologist giss paper lead author said result show complex estim futur global temperatur said take sulfat aerosol creat burn fossil fuel contribut atmospher cool less confin northern hemispher us live emit pollut via express uk oop nasa make shock claim burn fossil fuel cool planet',\n",
              "        'st centuri wire say washington russian witch hunt collaps eye host patrick henningsen reveal last wednesday acr radio supposedli damn inform submit fbi privat cyber secur contractor crowdstrik entir russian hack conspiraci theori hing fraudul link primari invent piec evid includ us intellig assess mean correct back nov st said russian hack stori hoax design distract explos content dnc podesta email leak also bolster fail hillari clinton campaign discredit donald trump somehow leagu evil russian keep press stori hurt credibl democrat parti still refus admit abject failur corrupt within polit organ question remain million us taxpay money hollywood congressman adam schiff ringlead lindsey graham wast done tri look tough russia trump held account anyon end discov schiff feinstein graham mccain mani other washington done extrem damag american interest long run nation secur stori us congressman neomccarthyit adam schiff becom ridicul look caricatur late justin raimondo antiwar comth alleg accept incontrovert fact mainstream media russian intellig servic hack democrat nation committe john podesta email effort help donald trump get elect recent suffer blow may recov crowdstrik cybersecur compani hire dnc determin hack account took singl day determin ident culprit said two group hacker name fanci bear cozi bear affili respect gru russian militari intellig fsb russian secur servic know alleg hacker group associ known individu way connect russian intellig instead identifi tool use time dirti work natur target characterist base histori past intrus yet jeffrey carr cyberwarfar expert point methodolog fatal flaw import know process attribut attack cybersecur compani noth scientif method write carr claim attribut testabl repeat hypothesi never proven right wrong neither claim attribut admiss crimin case make claim abid rule evid e hearsay relev admiss liken attribut claim hack incid cybersecur compani intellig assess carr note unlik govern agenc cia compani never held account miss come cybersecur estim attribut one hold compani make claim account way prove whether assign attribut true fals unless crimin convict hacker caught act govern employe leak evid lack account may chang howev crowdstrik case attribut hack dnc russian fall apart seam like cheap sweater begin crowdstrik initi gaug certainti ident hacker medium confid howev later develop announc late decemb tout washington post boost high confid reason newfound near certainti discoveri fanci bear also infect applic use ukrainian militari target separatist artilleri ukrainian civil war post report crowdstrik hire dnc investig intrus whose find describ new report alway suspect one two hacker group struck dnc gru russia militari intellig agenc medium confid said crowdstrik co founder dmitri alperovitch high confid unit gru crowdstrik dub unit fanci bear crowdstrik publish analysi claim malwar program supposedli uniqu fanci bear x agent infect ukrainian target applic use gp geo locat ukrainian posit turn applic ukrainian result huge loss juli august russian back forc launch decis attack ukrainian forc result signific loss life weaponri territori ukrainian artilleri forc lost weapon two year conflict howitz highest percentag loss artilleri piec ukrain arsen alperovitch told pb news hour ukrain artilleri men target hacker call fanci bear target dnc time target cell phone tri understand locat russian artilleri forc actual target open battl variant malici code seen dnc told nbc news prove dnc hacker pound guy bed trump opin first presidenti debat russian problem analysi true turn crowdstrik estim ukrainian loss base blog post pro russian blogger eager tout ukrainian loss ukrainian deni furthermor hack attribut base hacker use malwar program call x agent supposedli uniqu fanci bear sinc target ukrainian militari crowdstrik extrapol hacker work russian somewhat plausibl except two thing begin jeffrey carr point decemb other begin realiz x agent uniqu fanci bear cite find eset anoth cybersecur compani wrote unlik crowdstrik eset assign apt fanci bear sednit russian intellig servic anyon els simpl reason malwar deploy longer control hacker deploy develop creat revers engin copi modifi share redeploy anyon word malwar deploy malwar enjoy fact sourc code x agent use dnc bundestag tv mond attack obtain eset part investig investig abl retriev complet xagent sourc code linux oper system eset could other foolish baseless claim crowdstrik x agent use sole russian govern sourc code anyon find use secondli estim crowdstrik use verifi ukrainian loss supposedli base data respect intern institut strateg studi iiss iiss disavow debunk claim intern institut strateg studi iiss told voic america crowdstrik erron use iiss data proof intrus iiss disavow connect crowdstrik report ukrain ministri defens also claim combat loss hack never happen crowdstrik report use data infer analysi drawn data belong sole report author iiss said infer make reduct ukrainian artilleri hold primarili result combat loss conclus ever suggest one believ accur one iiss research produc data said think tank dramat lower estim ukrainian artilleri asset howitz part reassess realloc unit airborn forc never attribut reduct combat loss iiss research said explain realloc occur prior two year period crowdstrik cite report vast major reduct actual occur crimea donbass ad refer russian invas ukrain definit evid cite alperovitch effect debunk inde debunk carr late last year ignor media rush prove russian hack dnc order trump presidenti ambit exposur voic america crowdstrik falsif ukrainian battlefield loss supposedli solid proof attribut hack gru final nail crowdstrik coffin continu stori antiwar comread russian hack news st centuri wire russian hack filessupport wire subscrib becom member wire tv collaps russia hack witch hunt end well congress america',\n",
              "        'winnipeg manitoba reuter former u presid jimmi carter appear fulli recov dehydr suffer help build home chariti canada releas overnight hospit stay friday address project close ceremoni carter collaps work thursday winnipeg construct site habitat human promot afford home ownership taken st bonifac gener hospit medic treatment test friday morn carter smile return build site help kick project last day hour later wife rosalynn carter attend close ceremoni canadian museum human right manitoba capit receiv rous ovat crowd dress blue jean shirt light weight jacket relax fit look carter climb short flight step stage salut habitat member contribut look upon volunt sincer way human right hero thank said joke bring attent habitat project complet unintent former first ladi told crowd husband receiv clean bill health extens batteri test brief hospit includ one test design detect heart damag result show never kind damag jimmi carter heart said knew good heart thursday health scare gener outpour support carter democrat serv white hous januari januari live longer term offic presid u histori high point presid carter role broker camp david accord usher peac israel egypt left offic profoundli unpopular wide regard better former presid presid receiv nobel peac prize humanitarian work carter disclos august diagnos form skin cancer call melanoma spread brain elsewher spot liver surgeri month later carter told maranatha baptist church teach sunday school home town plain georgia latest brain scan show sign diseas carter canada project build new home needi famili celebr countri th independ anniversari jimmi carter recov dehydr scare canada'],\n",
              "       dtype=object), array([1, 1, 1, ..., 1, 1, 0]))"
            ]
          },
          "metadata": {},
          "execution_count": 28
        }
      ]
    },
    {
      "cell_type": "code",
      "source": [
        "# converting the textual (string) data to numerical data\n",
        "vectorizer = TfidfVectorizer()\n",
        "vectorizer.fit(X)\n",
        "X = vectorizer.transform(X)\n",
        "print(X)"
      ],
      "metadata": {
        "colab": {
          "base_uri": "https://localhost:8080/",
          "height": 0
        },
        "id": "mgsLnSbGntUD",
        "outputId": "b9cbff62-31e7-409b-f847-d95ba28ddb6c"
      },
      "execution_count": 29,
      "outputs": [
        {
          "output_type": "stream",
          "name": "stdout",
          "text": [
            "  (0, 89321)\t0.4320185803455729\n",
            "  (0, 88056)\t0.03890078514170296\n",
            "  (0, 87936)\t0.022263647744827725\n",
            "  (0, 86851)\t0.0870112207941817\n",
            "  (0, 86633)\t0.020422600606075963\n",
            "  (0, 85694)\t0.04437010119898763\n",
            "  (0, 85690)\t0.16675032168806858\n",
            "  (0, 85065)\t0.05687798077795471\n",
            "  (0, 84561)\t0.027780921315325287\n",
            "  (0, 83657)\t0.3226038066046771\n",
            "  (0, 80447)\t0.026596914487362698\n",
            "  (0, 79263)\t0.031192519947980828\n",
            "  (0, 78820)\t0.042890978509864786\n",
            "  (0, 77960)\t0.023921579746118065\n",
            "  (0, 76851)\t0.039732183651303224\n",
            "  (0, 75889)\t0.026829749943700878\n",
            "  (0, 75758)\t0.17142498832020348\n",
            "  (0, 74869)\t0.0593444996599373\n",
            "  (0, 74067)\t0.23519899587651105\n",
            "  (0, 73662)\t0.02083942218934454\n",
            "  (0, 73176)\t0.058198551279550925\n",
            "  (0, 73017)\t0.13799114588571573\n",
            "  (0, 72982)\t0.04085798470814599\n",
            "  (0, 71025)\t0.04152974346921612\n",
            "  (0, 69717)\t0.047674336772530614\n",
            "  :\t:\n",
            "  (44897, 11354)\t0.033004341672479266\n",
            "  (44897, 11232)\t0.05027936208112444\n",
            "  (44897, 11216)\t0.0487011768034019\n",
            "  (44897, 11213)\t0.13382483032222492\n",
            "  (44897, 11171)\t0.041207228028033935\n",
            "  (44897, 11021)\t0.01791751686817925\n",
            "  (44897, 10249)\t0.09034064909123547\n",
            "  (44897, 9868)\t0.05013312002728217\n",
            "  (44897, 9751)\t0.030194121987476518\n",
            "  (44897, 9705)\t0.0348913837353246\n",
            "  (44897, 9309)\t0.09403975212970409\n",
            "  (44897, 8774)\t0.08797753118335869\n",
            "  (44897, 8356)\t0.04414283939300766\n",
            "  (44897, 7670)\t0.02680338744440392\n",
            "  (44897, 7356)\t0.030395457436761576\n",
            "  (44897, 6311)\t0.05925584566376953\n",
            "  (44897, 5898)\t0.059793485120194105\n",
            "  (44897, 4771)\t0.035159170096210016\n",
            "  (44897, 4667)\t0.03703245422215309\n",
            "  (44897, 4663)\t0.034835829147626556\n",
            "  (44897, 3547)\t0.026178212709147435\n",
            "  (44897, 3148)\t0.0526018842890179\n",
            "  (44897, 1058)\t0.03920864750439684\n",
            "  (44897, 727)\t0.0317204722167386\n",
            "  (44897, 494)\t0.02199494998812277\n"
          ]
        }
      ]
    },
    {
      "cell_type": "markdown",
      "source": [
        "# **Train Test Split**"
      ],
      "metadata": {
        "id": "EgmOqeTon0ZH"
      }
    },
    {
      "cell_type": "code",
      "source": [
        "X_train, X_test, Y_train, Y_test = train_test_split(X, y, test_size = 0.2, stratify=y, random_state=2)"
      ],
      "metadata": {
        "id": "PDtjaJkVnySD"
      },
      "execution_count": 30,
      "outputs": []
    },
    {
      "cell_type": "markdown",
      "source": [
        "# **Logistic Regression Model**"
      ],
      "metadata": {
        "id": "XOABFa_Gn-tO"
      }
    },
    {
      "cell_type": "code",
      "source": [
        "model = LogisticRegression()\n",
        "model.fit(X_train, Y_train)"
      ],
      "metadata": {
        "colab": {
          "base_uri": "https://localhost:8080/",
          "height": 0
        },
        "id": "LkaqNAl7n8ZJ",
        "outputId": "4f55c739-e630-4f45-a744-663f998ded0a"
      },
      "execution_count": 31,
      "outputs": [
        {
          "output_type": "execute_result",
          "data": {
            "text/plain": [
              "LogisticRegression()"
            ]
          },
          "metadata": {},
          "execution_count": 31
        }
      ]
    },
    {
      "cell_type": "markdown",
      "source": [
        "**Accuracy score of training data**"
      ],
      "metadata": {
        "id": "6X5r7FYOyWzU"
      }
    },
    {
      "cell_type": "code",
      "source": [
        "X_train_pred = model.predict(X_train)\n",
        "train_acc = accuracy_score(X_train_pred, Y_train)\n",
        "print('Train Accuracy: ', train_acc)"
      ],
      "metadata": {
        "colab": {
          "base_uri": "https://localhost:8080/",
          "height": 0
        },
        "id": "v0uaS2bpoEJ-",
        "outputId": "00ec7a3f-4b8a-4154-c07e-a19f62f94f76"
      },
      "execution_count": 32,
      "outputs": [
        {
          "output_type": "stream",
          "name": "stdout",
          "text": [
            "Train Accuracy:  0.9919817361768473\n"
          ]
        }
      ]
    },
    {
      "cell_type": "markdown",
      "source": [
        "**Accuracy score of test data**"
      ],
      "metadata": {
        "id": "noZ3Fp4fyipt"
      }
    },
    {
      "cell_type": "code",
      "source": [
        "X_test_pred = model.predict(X_test)\n",
        "test_acc = accuracy_score(X_test_pred, Y_test)\n",
        "print('Test Accuracy: ', test_acc)"
      ],
      "metadata": {
        "colab": {
          "base_uri": "https://localhost:8080/",
          "height": 0
        },
        "id": "knWsbSiLoHPB",
        "outputId": "a92804e5-cb48-414a-bc26-9b6e809c398f"
      },
      "execution_count": 33,
      "outputs": [
        {
          "output_type": "stream",
          "name": "stdout",
          "text": [
            "Test Accuracy:  0.9869710467706013\n"
          ]
        }
      ]
    },
    {
      "cell_type": "markdown",
      "source": [
        "# **Model Prediction on Test data**"
      ],
      "metadata": {
        "id": "xNprhapZoKck"
      }
    },
    {
      "cell_type": "code",
      "source": [
        "News_Testing = X_test[2]\n",
        "prediction = model.predict(News_Testing)\n",
        "prediction"
      ],
      "metadata": {
        "colab": {
          "base_uri": "https://localhost:8080/",
          "height": 0
        },
        "id": "aaossyUOoKAE",
        "outputId": "a371d6c1-c2bc-46ef-e07e-e8519d6d08de"
      },
      "execution_count": 40,
      "outputs": [
        {
          "output_type": "execute_result",
          "data": {
            "text/plain": [
              "array([1])"
            ]
          },
          "metadata": {},
          "execution_count": 40
        }
      ]
    },
    {
      "cell_type": "code",
      "source": [
        "if (prediction[0]==0):\n",
        "  print('This news is Real')\n",
        "else: #(prediction[0]==1):\n",
        "  print('Warning!!!, This news is Fake')"
      ],
      "metadata": {
        "colab": {
          "base_uri": "https://localhost:8080/",
          "height": 0
        },
        "id": "R1zNhCJy83nS",
        "outputId": "dcf697a6-c169-419e-9ed7-c40d786b7a43"
      },
      "execution_count": 41,
      "outputs": [
        {
          "output_type": "stream",
          "name": "stdout",
          "text": [
            "Warning!!!, This news is Fake\n"
          ]
        }
      ]
    }
  ]
}